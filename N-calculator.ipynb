{
  "nbformat": 4,
  "nbformat_minor": 0,
  "metadata": {
    "colab": {
      "name": "Untitled2.ipynb",
      "provenance": [],
      "authorship_tag": "ABX9TyODV/HrqYgFd+h26V/kIExw",
      "include_colab_link": true
    },
    "kernelspec": {
      "name": "python3",
      "display_name": "Python 3"
    },
    "language_info": {
      "name": "python"
    }
  },
  "cells": [
    {
      "cell_type": "markdown",
      "metadata": {
        "id": "view-in-github",
        "colab_type": "text"
      },
      "source": [
        "<a href=\"https://colab.research.google.com/github/nihalgbailur/N-calculator/blob/master/N-calculator.ipynb\" target=\"_parent\"><img src=\"https://colab.research.google.com/assets/colab-badge.svg\" alt=\"Open In Colab\"/></a>"
      ]
    },
    {
      "cell_type": "code",
      "metadata": {
        "colab": {
          "base_uri": "https://localhost:8080/"
        },
        "id": "IBOfEQyx8Zij",
        "outputId": "69f6046d-1b1e-488c-e864-e8a14f5e1cab"
      },
      "source": [
        "def addition():\n",
        "    print(\"Addition\")\n",
        "    n = float(input(\"Enter the number: \"))\n",
        "    t = 0\n",
        "    ans = 0\n",
        "    while n != 0:\n",
        "        ans = ans + n\n",
        "        t += 1\n",
        "        n = float(input(\"Enter another number (0 to calculate): \"))\n",
        "    return [ans, t]\n",
        "\n",
        "\n",
        "def subtraction():\n",
        "    print(\"Subtraction\")\n",
        "    n = float(input(\"Enter the number: \"))\n",
        "    t = 0\n",
        "    sum = 0\n",
        "    while n != 0:\n",
        "        ans = ans - n\n",
        "        t += 1\n",
        "        n = float(input(\"Enter another number (0 to calculate): \"))\n",
        "    return [ans, t]\n",
        "\n",
        "\n",
        "def multiplication():\n",
        "    print(\"Multiplication\")\n",
        "    n = float(input(\"Enter the number: \"))\n",
        "    t = 0\n",
        "    ans = 1\n",
        "    while n != 0:\n",
        "        ans = ans * n\n",
        "        t += 1\n",
        "        n = float(input(\"Enter another number (0 to calculate): \"))\n",
        "    return [ans, t]\n",
        "\n",
        "\n",
        "def average():\n",
        "    an = []\n",
        "    an = addition()\n",
        "    t = an[1]\n",
        "    a = an[0]\n",
        "    ans = a / t\n",
        "    return [ans, t]\n",
        "\n",
        "\n",
        "while True:\n",
        "    list = []\n",
        "    print(\" My first python program!\")\n",
        "    print(\" Simple Calculator in python by NIHAL G BAILUR\")\n",
        "    print(\" Enter 'a' for addition\")\n",
        "    print(\" Enter 's' for substraction\")\n",
        "    print(\" Enter 'm' for multiplication\")\n",
        "    print(\" Enter 'v' for average\")\n",
        "    print(\" Enter 'q' for quit\")\n",
        "    c = input(\" \")\n",
        "    if c != 'q':\n",
        "        if c == 'a':\n",
        "            list = addition()\n",
        "            print(\"Ans = \", list[0], \" total inputs \", list[1])\n",
        "        elif c == 's':\n",
        "            list = subtraction()\n",
        "            print(\"Ans = \", list[0], \" total inputs \", list[1])\n",
        "        elif c == 'm':\n",
        "            list = multiplication()\n",
        "            print(\"Ans = \", list[0], \" total inputs \", list[1])\n",
        "        elif c == 'v':\n",
        "            list = average()\n",
        "            print(\"Ans = \", list[0], \" total inputs \", list[1])\n",
        "        else:\n",
        "            print(\"Sorry, invilid character\")\n",
        "    else:\n",
        "        break\n"
      ],
      "execution_count": null,
      "outputs": [
        {
          "output_type": "stream",
          "text": [
            " My first python program!\n",
            " Simple Calculator in python by NIHAL G BAILUR\n",
            " Enter 'a' for addition\n",
            " Enter 's' for substraction\n",
            " Enter 'm' for multiplication\n",
            " Enter 'v' for average\n",
            " Enter 'q' for quit\n",
            " a\n",
            "Addition\n",
            "Enter the number: 23\n",
            "Enter another number (0 to calculate): 32\n",
            "Enter another number (0 to calculate): 0\n",
            "Ans =  55.0  total inputs  2\n",
            " My first python program!\n",
            " Simple Calculator in python by NIHAL G BAILUR\n",
            " Enter 'a' for addition\n",
            " Enter 's' for substraction\n",
            " Enter 'm' for multiplication\n",
            " Enter 'v' for average\n",
            " Enter 'q' for quit\n"
          ],
          "name": "stdout"
        }
      ]
    }
  ]
}